{
 "cells": [
  {
   "cell_type": "code",
   "execution_count": 11,
   "metadata": {},
   "outputs": [],
   "source": [
    "from langchain.vectorstores import Chroma\n",
    "from langchain.text_splitter import RecursiveCharacterTextSplitter\n",
    "from langchain_google_genai import ChatGoogleGenerativeAI, GoogleGenerativeAIEmbeddings\n",
    "from langchain.chains import RetrievalQA\n",
    "from langchain.document_loaders import DirectoryLoader\n",
    "import google.generativeai as genai\n",
    "import getpass\n",
    "import os\n",
    "import markdown\n",
    "\n",
    "os.environ[\"GOOGLE_API_KEY\"] = getpass.getpass(\"Google Key: \")\n",
    "genai.configure(api_key=os.environ[\"GOOGLE_API_KEY\"])"
   ]
  },
  {
   "cell_type": "code",
   "execution_count": 24,
   "metadata": {},
   "outputs": [],
   "source": [
    "loader = DirectoryLoader('C:/Users/fjdj0/Desktop/Coding/learning/langchain/material/', glob='**/*.pdf', show_progress=True, use_multithreading=True, silent_errors=True)"
   ]
  },
  {
   "cell_type": "code",
   "execution_count": 25,
   "metadata": {},
   "outputs": [
    {
     "name": "stderr",
     "output_type": "stream",
     "text": [
      "100%|██████████| 5/5 [00:21<00:00,  4.25s/it]\n"
     ]
    }
   ],
   "source": [
    "documents = loader.load()"
   ]
  },
  {
   "cell_type": "code",
   "execution_count": 38,
   "metadata": {},
   "outputs": [],
   "source": [
    "text_splitter = RecursiveCharacterTextSplitter(chunk_size=1000, chunk_overlap=0)"
   ]
  },
  {
   "cell_type": "code",
   "execution_count": 39,
   "metadata": {},
   "outputs": [],
   "source": [
    "texts = text_splitter.split_documents(documents)"
   ]
  },
  {
   "cell_type": "code",
   "execution_count": 40,
   "metadata": {},
   "outputs": [],
   "source": [
    "embeddings = GoogleGenerativeAIEmbeddings(model=\"models/embedding-001\")"
   ]
  },
  {
   "cell_type": "code",
   "execution_count": 41,
   "metadata": {},
   "outputs": [],
   "source": [
    "docsearch = Chroma.from_documents(texts, embeddings).as_retriever()"
   ]
  },
  {
   "cell_type": "code",
   "execution_count": 42,
   "metadata": {},
   "outputs": [],
   "source": [
    "from langchain.prompts import ChatPromptTemplate\n",
    "template = \"\"\"Answer the question as based only on the following contect: {context}\n",
    "Question: {question}\"\"\"\n",
    "prompt = ChatPromptTemplate.from_template(template)"
   ]
  },
  {
   "cell_type": "code",
   "execution_count": 43,
   "metadata": {},
   "outputs": [],
   "source": [
    "model = ChatGoogleGenerativeAI(model=\"gemini-pro\", temperature=0.1, convert_system_message_to_human=True)"
   ]
  },
  {
   "cell_type": "code",
   "execution_count": 44,
   "metadata": {},
   "outputs": [
    {
     "data": {
      "text/plain": [
       "[Document(page_content='I will devote a chapter to IPython and how to get the most out of its features. I strongly recommend using it while working through this book.\\n\\nEssential Python Libraries\\n\\n| 5\\n\\nwww.it-ebooks.info', metadata={'source': 'C:\\\\Users\\\\fjdj0\\\\Desktop\\\\Coding\\\\learning\\\\langchain\\\\material\\\\Python for Data Analysis Why Python.pdf'}),\n",
       " Document(page_content='I will devote a chapter to IPython and how to get the most out of its features. I strongly recommend using it while working through this book.\\n\\nEssential Python Libraries\\n\\n| 5\\n\\nwww.it-ebooks.info', metadata={'source': 'C:\\\\Users\\\\fjdj0\\\\Desktop\\\\Coding\\\\learning\\\\langchain\\\\material\\\\Python for Data Analysis Why Python.pdf'}),\n",
       " Document(page_content='I will devote a chapter to IPython and how to get the most out of its features. I strongly recommend using it while working through this book.\\n\\nEssential Python Libraries\\n\\n| 5\\n\\nwww.it-ebooks.info', metadata={'source': 'C:\\\\Users\\\\fjdj0\\\\Desktop\\\\Coding\\\\learning\\\\langchain\\\\material\\\\Python for Data Analysis Why Python.pdf'}),\n",
       " Document(page_content='I will devote a chapter to IPython and how to get the most out of its features. I strongly recommend using it while working through this book.\\n\\nEssential Python Libraries\\n\\n| 5\\n\\nwww.it-ebooks.info', metadata={'source': 'C:\\\\Users\\\\fjdj0\\\\Desktop\\\\Coding\\\\learning\\\\langchain\\\\material\\\\Python for Data Analysis Why Python.pdf'})]"
      ]
     },
     "execution_count": 44,
     "metadata": {},
     "output_type": "execute_result"
    }
   ],
   "source": [
    "query = \"Can some some numpy code and why we need to use numpy in simple terms please\"\n",
    "docsearch.get_relevant_documents(query)"
   ]
  },
  {
   "cell_type": "code",
   "execution_count": 49,
   "metadata": {},
   "outputs": [],
   "source": [
    "from langchain.schema.runnable import RunnableMap\n",
    "chain = RunnableMap({\n",
    "    \"context\": lambda x: docsearch.get_relevant_documents(x[\"question\"]),\n",
    "    \"question\": lambda x: x[\"question\"]\n",
    "}) | prompt | model "
   ]
  },
  {
   "cell_type": "code",
   "execution_count": 50,
   "metadata": {},
   "outputs": [
    {
     "name": "stdout",
     "output_type": "stream",
     "text": [
      "content='The provided context does not contain any information about numpy code or why we need to use numpy. Therefore, I cannot answer this question.'\n"
     ]
    }
   ],
   "source": [
    "response = chain.invoke({\"question\": query})\n",
    "print(response)"
   ]
  },
  {
   "cell_type": "code",
   "execution_count": null,
   "metadata": {},
   "outputs": [],
   "source": []
  }
 ],
 "metadata": {
  "kernelspec": {
   "display_name": "Python 3",
   "language": "python",
   "name": "python3"
  },
  "language_info": {
   "codemirror_mode": {
    "name": "ipython",
    "version": 3
   },
   "file_extension": ".py",
   "mimetype": "text/x-python",
   "name": "python",
   "nbconvert_exporter": "python",
   "pygments_lexer": "ipython3",
   "version": "3.11.4"
  }
 },
 "nbformat": 4,
 "nbformat_minor": 2
}
